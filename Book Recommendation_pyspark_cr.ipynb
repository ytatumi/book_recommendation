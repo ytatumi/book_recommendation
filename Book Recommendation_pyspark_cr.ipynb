{
 "cells": [
  {
   "attachments": {},
   "cell_type": "markdown",
   "metadata": {},
   "source": [
    "###  Book Recommendation with Pyspark (Collaborative recocmmendation system) "
   ]
  },
  {
   "cell_type": "code",
   "execution_count": 1,
   "metadata": {},
   "outputs": [],
   "source": [
    "from pyspark.sql import SparkSession\n",
    "from pyspark.ml.evaluation import RegressionEvaluator\n",
    "from pyspark.ml.recommendation import ALS\n",
    "from pyspark import SparkContext, SparkConf\n",
    "from pyspark.sql.types import StructType,StructField,IntegerType,StringType,LongType,DoubleType\n",
    "from pyspark.sql.functions import col\n",
    "import pandas as pd\n",
    "from pyspark.sql.functions import isnan, when, count, col\n",
    "from pyspark.ml.feature import StringIndexer\n",
    "from pyspark.ml import Pipeline\n",
    "from pyspark.ml.tuning import CrossValidator, ParamGridBuilder\n"
   ]
  },
  {
   "cell_type": "code",
   "execution_count": 2,
   "metadata": {},
   "outputs": [
    {
     "data": {
      "text/html": [
       "\n",
       "            <div>\n",
       "                <p><b>SparkSession - hive</b></p>\n",
       "                \n",
       "        <div>\n",
       "            <p><b>SparkContext</b></p>\n",
       "\n",
       "            <p><a href=\"http://LAPTOP-E1IC946T.home:4040\">Spark UI</a></p>\n",
       "\n",
       "            <dl>\n",
       "              <dt>Version</dt>\n",
       "                <dd><code>v3.4.1</code></dd>\n",
       "              <dt>Master</dt>\n",
       "                <dd><code>local[*]</code></dd>\n",
       "              <dt>AppName</dt>\n",
       "                <dd><code>PySparkShell</code></dd>\n",
       "            </dl>\n",
       "        </div>\n",
       "        \n",
       "            </div>\n",
       "        "
      ],
      "text/plain": [
       "<pyspark.sql.session.SparkSession at 0x2a8c0db7190>"
      ]
     },
     "execution_count": 2,
     "metadata": {},
     "output_type": "execute_result"
    }
   ],
   "source": [
    "spark = SparkSession.builder.config(\"spark.executor.heartbeatInterval\", \"10000s\").appName('Recommender').getOrCreate()\n",
    "spark"
   ]
  },
  {
   "cell_type": "code",
   "execution_count": 3,
   "metadata": {},
   "outputs": [],
   "source": [
    "sc = spark.sparkContext"
   ]
  },
  {
   "cell_type": "code",
   "execution_count": 4,
   "metadata": {},
   "outputs": [],
   "source": [
    "books=pd.read_csv('BX-Books.csv',sep =';', on_bad_lines='skip', encoding=\"iso-8859-1\")\n",
    "users=pd.read_csv('BX-users.csv',sep =';', on_bad_lines='skip', encoding=\"iso-8859-1\")\n",
    "ratings=pd.read_csv('BX-Book-Ratings.csv',sep =';', on_bad_lines='skip', encoding=\"iso-8859-1\")"
   ]
  },
  {
   "cell_type": "code",
   "execution_count": 5,
   "metadata": {},
   "outputs": [],
   "source": [
    "ratings_sdf = spark.createDataFrame(ratings) "
   ]
  },
  {
   "cell_type": "code",
   "execution_count": 6,
   "metadata": {},
   "outputs": [
    {
     "name": "stdout",
     "output_type": "stream",
     "text": [
      "root\n",
      " |-- User-ID: long (nullable = true)\n",
      " |-- ISBN: string (nullable = true)\n",
      " |-- Book-Rating: long (nullable = true)\n",
      "\n"
     ]
    }
   ],
   "source": [
    "ratings_sdf.printSchema()"
   ]
  },
  {
   "cell_type": "code",
   "execution_count": 7,
   "metadata": {},
   "outputs": [
    {
     "name": "stdout",
     "output_type": "stream",
     "text": [
      "+-------+----------+-----------+\n",
      "|User-ID|      ISBN|Book-Rating|\n",
      "+-------+----------+-----------+\n",
      "| 276725|034545104X|          0|\n",
      "| 276726|0155061224|          5|\n",
      "| 276727|0446520802|          0|\n",
      "| 276729|052165615X|          3|\n",
      "| 276729|0521795028|          6|\n",
      "| 276733|2080674722|          0|\n",
      "| 276736|3257224281|          8|\n",
      "| 276737|0600570967|          6|\n",
      "| 276744|038550120X|          7|\n",
      "| 276745| 342310538|         10|\n",
      "| 276746|0425115801|          0|\n",
      "| 276746|0449006522|          0|\n",
      "| 276746|0553561618|          0|\n",
      "| 276746|055356451X|          0|\n",
      "| 276746|0786013990|          0|\n",
      "| 276746|0786014512|          0|\n",
      "| 276747|0060517794|          9|\n",
      "| 276747|0451192001|          0|\n",
      "| 276747|0609801279|          0|\n",
      "| 276747|0671537458|          9|\n",
      "+-------+----------+-----------+\n",
      "only showing top 20 rows\n",
      "\n"
     ]
    }
   ],
   "source": [
    "ratings_sdf.show()"
   ]
  },
  {
   "cell_type": "code",
   "execution_count": 8,
   "metadata": {},
   "outputs": [],
   "source": [
    "user_sdf=spark.createDataFrame(users)"
   ]
  },
  {
   "cell_type": "code",
   "execution_count": 9,
   "metadata": {},
   "outputs": [
    {
     "name": "stdout",
     "output_type": "stream",
     "text": [
      "+-------+--------------------+----+\n",
      "|User-ID|            Location| Age|\n",
      "+-------+--------------------+----+\n",
      "|      1|  nyc, new york, usa| NaN|\n",
      "|      2|stockton, califor...|18.0|\n",
      "|      3|moscow, yukon ter...| NaN|\n",
      "|      4|porto, v.n.gaia, ...|17.0|\n",
      "|      5|farnborough, hant...| NaN|\n",
      "|      6|santa monica, cal...|61.0|\n",
      "|      7| washington, dc, usa| NaN|\n",
      "|      8|timmins, ontario,...| NaN|\n",
      "|      9|germantown, tenne...| NaN|\n",
      "|     10|albacete, wiscons...|26.0|\n",
      "|     11|melbourne, victor...|14.0|\n",
      "|     12|fort bragg, calif...| NaN|\n",
      "|     13|barcelona, barcel...|26.0|\n",
      "|     14|mediapolis, iowa,...| NaN|\n",
      "|     15|calgary, alberta,...| NaN|\n",
      "|     16|albuquerque, new ...| NaN|\n",
      "|     17|chesapeake, virgi...| NaN|\n",
      "|     18|rio de janeiro, r...|25.0|\n",
      "|     19|           weston, ,|14.0|\n",
      "|     20|langhorne, pennsy...|19.0|\n",
      "+-------+--------------------+----+\n",
      "only showing top 20 rows\n",
      "\n"
     ]
    }
   ],
   "source": [
    "user_sdf.show()"
   ]
  },
  {
   "cell_type": "code",
   "execution_count": 10,
   "metadata": {},
   "outputs": [],
   "source": [
    "books_sdf= spark.createDataFrame(books)"
   ]
  },
  {
   "cell_type": "code",
   "execution_count": 11,
   "metadata": {},
   "outputs": [
    {
     "name": "stdout",
     "output_type": "stream",
     "text": [
      "root\n",
      " |-- User-ID: long (nullable = true)\n",
      " |-- ISBN: string (nullable = true)\n",
      " |-- Book-Rating: long (nullable = true)\n",
      "\n"
     ]
    }
   ],
   "source": [
    "ratings_sdf.printSchema()"
   ]
  },
  {
   "cell_type": "code",
   "execution_count": 12,
   "metadata": {},
   "outputs": [],
   "source": [
    "books_sdf =books_sdf.drop(\"Image-URL-S\", \"Image-URL-M\", \"Image-URL-L\")"
   ]
  },
  {
   "cell_type": "code",
   "execution_count": 13,
   "metadata": {},
   "outputs": [
    {
     "name": "stdout",
     "output_type": "stream",
     "text": [
      "+----------+--------------------+--------------------+-------------------+--------------------+\n",
      "|      ISBN|          Book-Title|         Book-Author|Year-Of-Publication|           Publisher|\n",
      "+----------+--------------------+--------------------+-------------------+--------------------+\n",
      "| 195153448| Classical Mythology|  Mark P. O. Morford|               2002|Oxford University...|\n",
      "|   2005018|        Clara Callan|Richard Bruce Wright|               2001|HarperFlamingo Ca...|\n",
      "|  60973129|Decision in Normandy|        Carlo D'Este|               1991|     HarperPerennial|\n",
      "| 374157065|Flu: The Story of...|    Gina Bari Kolata|               1999|Farrar Straus Giroux|\n",
      "| 393045218|The Mummies of Ur...|     E. J. W. Barber|               1999|W. W. Norton &amp...|\n",
      "| 399135782|The Kitchen God's...|             Amy Tan|               1991|    Putnam Pub Group|\n",
      "| 425176428|What If?: The Wor...|       Robert Cowley|               2000|Berkley Publishin...|\n",
      "| 671870432|     PLEADING GUILTY|         Scott Turow|               1993|          Audioworks|\n",
      "| 679425608|Under the Black F...|     David Cordingly|               1996|        Random House|\n",
      "|074322678X|Where You'll Find...|         Ann Beattie|               2002|            Scribner|\n",
      "| 771074670|Nights Below Stat...|David Adams Richards|               1988|     Emblem Editions|\n",
      "|080652121X|Hitler's Secret B...|          Adam Lebor|               2000|       Citadel Press|\n",
      "| 887841740|  The Middle Stories|         Sheila Heti|               2004|House of Anansi P...|\n",
      "|1552041778|            Jane Doe|        R. J. Kaiser|               1999|          Mira Books|\n",
      "|1558746218|A Second Chicken ...|       Jack Canfield|               1998|Health Communicat...|\n",
      "|1567407781|The Witchfinder (...|   Loren D. Estleman|               1998|Brilliance Audio ...|\n",
      "|1575663937|More Cunning Than...|  Robert Hendrickson|               1999|Kensington Publis...|\n",
      "|1881320189|Goodbye to the Bu...|        Julia Oliver|               1994|      River City Pub|\n",
      "| 440234743|       The Testament|        John Grisham|               1999|                Dell|\n",
      "| 452264464|Beloved (Plume Co...|       Toni Morrison|               1994|               Plume|\n",
      "+----------+--------------------+--------------------+-------------------+--------------------+\n",
      "only showing top 20 rows\n",
      "\n"
     ]
    }
   ],
   "source": [
    "books_sdf.show()"
   ]
  },
  {
   "cell_type": "code",
   "execution_count": 14,
   "metadata": {},
   "outputs": [
    {
     "name": "stdout",
     "output_type": "stream",
     "text": [
      "+----------+--------------------+--------------------+-------------------+--------------------+---------+\n",
      "|      ISBN|          Book-Title|         Book-Author|Year-Of-Publication|           Publisher|ISBNIndex|\n",
      "+----------+--------------------+--------------------+-------------------+--------------------+---------+\n",
      "| 195153448| Classical Mythology|  Mark P. O. Morford|               2002|Oxford University...|  57260.0|\n",
      "|   2005018|        Clara Callan|Richard Bruce Wright|               2001|HarperFlamingo Ca...|  57638.0|\n",
      "|  60973129|Decision in Normandy|        Carlo D'Este|               1991|     HarperPerennial| 177769.0|\n",
      "| 374157065|Flu: The Story of...|    Gina Bari Kolata|               1999|Farrar Straus Giroux| 107195.0|\n",
      "| 393045218|The Mummies of Ur...|     E. J. W. Barber|               1999|W. W. Norton &amp...| 119104.0|\n",
      "| 399135782|The Kitchen God's...|             Amy Tan|               1991|    Putnam Pub Group| 124682.0|\n",
      "| 425176428|What If?: The Wor...|       Robert Cowley|               2000|Berkley Publishin...| 129018.0|\n",
      "| 671870432|     PLEADING GUILTY|         Scott Turow|               1993|          Audioworks| 192729.0|\n",
      "| 679425608|Under the Black F...|     David Cordingly|               1996|        Random House| 194576.0|\n",
      "|074322678X|Where You'll Find...|         Ann Beattie|               2002|            Scribner|  12787.0|\n",
      "| 771074670|Nights Below Stat...|David Adams Richards|               1988|     Emblem Editions| 216887.0|\n",
      "|080652121X|Hitler's Secret B...|          Adam Lebor|               2000|       Citadel Press|  14354.0|\n",
      "| 887841740|  The Middle Stories|         Sheila Heti|               2004|House of Anansi P...| 256862.0|\n",
      "|1552041778|            Jane Doe|        R. J. Kaiser|               1999|          Mira Books|  28218.0|\n",
      "|1558746218|A Second Chicken ...|       Jack Canfield|               1998|Health Communicat...|  31390.0|\n",
      "|1567407781|The Witchfinder (...|   Loren D. Estleman|               1998|Brilliance Audio ...|  37206.0|\n",
      "|1575663937|More Cunning Than...|  Robert Hendrickson|               1999|Kensington Publis...|  41157.0|\n",
      "|1881320189|Goodbye to the Bu...|        Julia Oliver|               1994|      River City Pub|  51972.0|\n",
      "| 440234743|       The Testament|        John Grisham|               1999|                Dell| 133541.0|\n",
      "| 452264464|Beloved (Plume Co...|       Toni Morrison|               1994|               Plume| 149043.0|\n",
      "+----------+--------------------+--------------------+-------------------+--------------------+---------+\n",
      "only showing top 20 rows\n",
      "\n"
     ]
    }
   ],
   "source": [
    "columns=['ISBN']\n",
    "indexer = [StringIndexer(inputCol=column, outputCol=column+\"Index\") for column in columns]\n",
    "pipeline = Pipeline(stages=indexer)\n",
    "transformed = pipeline.fit(books_sdf).transform(books_sdf)\n",
    "transformed.show()"
   ]
  },
  {
   "cell_type": "code",
   "execution_count": 15,
   "metadata": {},
   "outputs": [],
   "source": [
    "ratings_sdf_processed = ratings_sdf.join(transformed,\"ISBN\",\"inner\")"
   ]
  },
  {
   "cell_type": "code",
   "execution_count": 16,
   "metadata": {},
   "outputs": [
    {
     "name": "stdout",
     "output_type": "stream",
     "text": [
      "+----------+-------+-----------+--------------------+----------------+-------------------+--------------------+---------+\n",
      "|      ISBN|User-ID|Book-Rating|          Book-Title|     Book-Author|Year-Of-Publication|           Publisher|ISBNIndex|\n",
      "+----------+-------+-----------+--------------------+----------------+-------------------+--------------------+---------+\n",
      "|000220083X| 122881|          0|AMPHIBIANS AND RE...|   Trevor Beebee|               2000|    Trafalgar Square|     14.0|\n",
      "|000225669x| 256247|          0|One Thousand Ches...|      Mira Stout|                  0|Harpercollins Pub...|     28.0|\n",
      "|000225946X| 100782|          9|             Swimmer|     Bill Broady|               2000|            Flamingo|     31.0|\n",
      "|000225946X| 145161|          0|             Swimmer|     Bill Broady|               2000|            Flamingo|     31.0|\n",
      "|000255710X| 182987|          0|The Danakil Diary...|Wilfred Thesiger|               1996|Harpercollins Canada|     38.0|\n",
      "|000470973X|  37644|          6|Dogs Photo Guide ...|       Jane Edie|               1998|    HarperCollins UK|     46.0|\n",
      "|000614330X|  55734|          0| The Grove of Eagles|  Winston Graham|               1987|HarperCollins Pub...|     50.0|\n",
      "|000617616X|  55197|          5|   At Close Quarters|  Gerald Seymour|               1988|HarperCollins Pub...|     54.0|\n",
      "|000617616X|  59296|          6|   At Close Quarters|  Gerald Seymour|               1988|HarperCollins Pub...|     54.0|\n",
      "|000617616X|  68156|          9|   At Close Quarters|  Gerald Seymour|               1988|HarperCollins Pub...|     54.0|\n",
      "|000617616X| 211460|          0|   At Close Quarters|  Gerald Seymour|               1988|HarperCollins Pub...|     54.0|\n",
      "|000617616X| 273133|          7|   At Close Quarters|  Gerald Seymour|               1988|HarperCollins Pub...|     54.0|\n",
      "|000617695X|  65844|          6|The Great &amp; S...|    Barker Clive|               1990|HarperCollins Pub...|     56.0|\n",
      "|000636988X|   1025|          9|How Not to Be a P...|    Libby Purves|               1986|HarperCollins Pub...|     64.0|\n",
      "|000636988X| 156837|          9|How Not to Be a P...|    Libby Purves|               1986|HarperCollins Pub...|     64.0|\n",
      "|000636988X| 224977|          0|How Not to Be a P...|    Libby Purves|               1986|HarperCollins Pub...|     64.0|\n",
      "|000636988X| 252827|          0|How Not to Be a P...|    Libby Purves|               1986|HarperCollins Pub...|     64.0|\n",
      "|000637610X| 273133|          5|    You Got an Ology|  Maureen Lipman|               1990|HarperCollins Pub...|     65.0|\n",
      "|000639194X| 165262|         10|            Firewing|   Kenneth Oppel|               2002|HarperCollins Canada|     69.0|\n",
      "|000639194X| 250061|         10|            Firewing|   Kenneth Oppel|               2002|HarperCollins Canada|     69.0|\n",
      "+----------+-------+-----------+--------------------+----------------+-------------------+--------------------+---------+\n",
      "only showing top 20 rows\n",
      "\n"
     ]
    }
   ],
   "source": [
    "ratings_sdf_processed.show()"
   ]
  },
  {
   "cell_type": "code",
   "execution_count": 17,
   "metadata": {},
   "outputs": [
    {
     "name": "stdout",
     "output_type": "stream",
     "text": [
      "+----+-------+-----------+----------+-----------+-------------------+---------+---------+\n",
      "|ISBN|User-ID|Book-Rating|Book-Title|Book-Author|Year-Of-Publication|Publisher|ISBNIndex|\n",
      "+----+-------+-----------+----------+-----------+-------------------+---------+---------+\n",
      "|   0|      0|          0|         0|          2|                  0|        2|        0|\n",
      "+----+-------+-----------+----------+-----------+-------------------+---------+---------+\n",
      "\n"
     ]
    }
   ],
   "source": [
    "ratings_sdf_processed.select([count(when(isnan(c) | col(c).isNull(), c)).alias(c) for c in ratings_sdf_processed.columns]\n",
    "   ).show()"
   ]
  },
  {
   "cell_type": "code",
   "execution_count": 18,
   "metadata": {},
   "outputs": [],
   "source": [
    "ratings_sdf_selected = ratings_sdf_processed.select(col(\"User-ID\"), col(\"ISBNIndex\"), col(\"Book-Rating\"))"
   ]
  },
  {
   "cell_type": "code",
   "execution_count": 19,
   "metadata": {},
   "outputs": [],
   "source": [
    "(training, test) = ratings_sdf_selected.randomSplit([0.8, 0.2])"
   ]
  },
  {
   "cell_type": "code",
   "execution_count": 22,
   "metadata": {},
   "outputs": [],
   "source": [
    "als = ALS(userCol=\"User-ID\", itemCol=\"ISBNIndex\", ratingCol=\"Book-Rating\", coldStartStrategy=\"drop\", nonnegative = True,\n",
    "implicitPrefs = False)\n",
    "# model = als.fit(training)"
   ]
  },
  {
   "cell_type": "code",
   "execution_count": 23,
   "metadata": {},
   "outputs": [],
   "source": [
    "\n",
    "params = ParamGridBuilder().addGrid(als.regParam, [.1, .15]).addGrid(als.rank, [10, 150]).build()"
   ]
  },
  {
   "cell_type": "code",
   "execution_count": 24,
   "metadata": {},
   "outputs": [],
   "source": [
    "evaluator=RegressionEvaluator(metricName=\"rmse\",labelCol=\"Book-Rating\",predictionCol=\"prediction\")"
   ]
  },
  {
   "cell_type": "code",
   "execution_count": 25,
   "metadata": {},
   "outputs": [],
   "source": [
    "cv = CrossValidator(estimator = als, estimatorParamMaps = params, evaluator = evaluator, numFolds = 5)"
   ]
  },
  {
   "cell_type": "code",
   "execution_count": 26,
   "metadata": {},
   "outputs": [],
   "source": [
    "model = cv.fit(training)"
   ]
  },
  {
   "cell_type": "code",
   "execution_count": 27,
   "metadata": {},
   "outputs": [],
   "source": [
    "best_model = model.bestModel"
   ]
  },
  {
   "cell_type": "code",
   "execution_count": 28,
   "metadata": {},
   "outputs": [],
   "source": [
    "predictions = best_model.transform(test)\n",
    "rmse = evaluator.evaluate(predictions)"
   ]
  },
  {
   "cell_type": "code",
   "execution_count": 29,
   "metadata": {},
   "outputs": [
    {
     "name": "stdout",
     "output_type": "stream",
     "text": [
      "**Best Model**\n",
      "RMSE =4.072090555089141 \n",
      "Rank:150\n",
      " MaxIter:10\n",
      " RegParam:0.15\n"
     ]
    }
   ],
   "source": [
    "print (\"**Best Model**\")\n",
    "print (f\"RMSE ={rmse} \")\n",
    "print (f\"Rank:{best_model.rank}\") \n",
    "print (f\" MaxIter:{best_model._java_obj.parent().getMaxIter()}\")\n",
    "print (f\" RegParam:{best_model._java_obj.parent().getRegParam()}\")\n"
   ]
  },
  {
   "cell_type": "code",
   "execution_count": 20,
   "metadata": {},
   "outputs": [],
   "source": [
    "als = ALS(maxIter=5, regParam=0.15,rank=150, userCol=\"User-ID\", itemCol=\"ISBNIndex\", ratingCol=\"Book-Rating\", coldStartStrategy=\"drop\", nonnegative = True,\n",
    "implicitPrefs = False)\n",
    "model = als.fit(training)"
   ]
  },
  {
   "cell_type": "code",
   "execution_count": 21,
   "metadata": {},
   "outputs": [
    {
     "name": "stdout",
     "output_type": "stream",
     "text": [
      "RMSE=4.033819099536668\n",
      "+-------+---------+-----------+----------+\n",
      "|User-ID|ISBNIndex|Book-Rating|prediction|\n",
      "+-------+---------+-----------+----------+\n",
      "| 104665|     78.0|          0|       0.0|\n",
      "|  28993|     81.0|          9| 1.4908936|\n",
      "| 244995|    115.0|          4|0.26952899|\n",
      "|  64316|    115.0|         10| 2.0175445|\n",
      "| 142143|    115.0|          0| 0.8274771|\n",
      "| 252222|    271.0|          0| 1.2461506|\n",
      "| 175003|    296.0|          0| 0.5703545|\n",
      "| 209756|    321.0|          0| 1.5183747|\n",
      "| 148863|    321.0|          7| 2.5576854|\n",
      "|  54622|    406.0|          5| 1.5856388|\n",
      "| 110912|    406.0|          0| 1.1166079|\n",
      "| 265313|    406.0|          7| 1.2144725|\n",
      "| 197659|    406.0|          9| 2.5215569|\n",
      "| 218608|    412.0|         10| 4.3565707|\n",
      "| 104569|    436.0|          5| 1.3040322|\n",
      "|  70594|    436.0|          8| 2.3849626|\n",
      "|  96665|    436.0|          0|       0.0|\n",
      "|  11676|    436.0|          8| 2.0258257|\n",
      "|  33656|    436.0|          5|       0.0|\n",
      "|  63714|    516.0|          0| 0.5794709|\n",
      "+-------+---------+-----------+----------+\n",
      "only showing top 20 rows\n",
      "\n"
     ]
    }
   ],
   "source": [
    "evaluator=RegressionEvaluator(metricName=\"rmse\",labelCol=\"Book-Rating\",predictionCol=\"prediction\")\n",
    "predictions=model.transform(test).na.drop()\n",
    "rmse=evaluator.evaluate(predictions)\n",
    "print(\"RMSE=\"+str(rmse))\n",
    "predictions.show()"
   ]
  },
  {
   "cell_type": "code",
   "execution_count": 22,
   "metadata": {},
   "outputs": [],
   "source": [
    "user_recs=model.recommendForAllUsers(20)"
   ]
  },
  {
   "cell_type": "code",
   "execution_count": 23,
   "metadata": {},
   "outputs": [
    {
     "name": "stdout",
     "output_type": "stream",
     "text": [
      "+-------+--------------------+\n",
      "|User-ID|     recommendations|\n",
      "+-------+--------------------+\n",
      "|     44|[{59238, 0.0}, {5...|\n",
      "|    183|[{239158, 9.02123...|\n",
      "|    243|[{51436, 5.364575...|\n",
      "|    300|[{47341, 7.423259...|\n",
      "|    362|[{59238, 0.0}, {5...|\n",
      "|    384|[{59238, 0.0}, {5...|\n",
      "|    392|[{241533, 9.06003...|\n",
      "|    406|[{59238, 0.0}, {5...|\n",
      "|    460|[{256778, 7.84945...|\n",
      "|    472|[{14301, 8.95139}...|\n",
      "|    496|[{12247, 8.373371...|\n",
      "|    626|[{82730, 6.665379...|\n",
      "|    744|[{244181, 8.63125...|\n",
      "|    811|[{91938, 7.959905...|\n",
      "|    853|[{3731, 8.850786}...|\n",
      "|    876|[{59238, 0.0}, {5...|\n",
      "|    914|[{82093, 9.905464...|\n",
      "|    973|[{40414, 9.952799...|\n",
      "|   1025|[{83288, 11.28329...|\n",
      "|   1294|[{28463, 8.348033...|\n",
      "+-------+--------------------+\n",
      "only showing top 20 rows\n",
      "\n"
     ]
    }
   ],
   "source": [
    "user_recs.show()"
   ]
  },
  {
   "cell_type": "code",
   "execution_count": 24,
   "metadata": {},
   "outputs": [],
   "source": [
    "rec_list=user_recs.filter(col('User-ID')==44).select(\"recommendations\").collect()"
   ]
  },
  {
   "cell_type": "code",
   "execution_count": 25,
   "metadata": {},
   "outputs": [],
   "source": [
    "topBooks = []\n",
    "for item in rec_list[0][0]:\n",
    "    topBooks.append(item.ISBNIndex)"
   ]
  },
  {
   "cell_type": "code",
   "execution_count": 26,
   "metadata": {},
   "outputs": [
    {
     "data": {
      "text/plain": [
       "[59238,\n",
       " 59218,\n",
       " 59208,\n",
       " 59198,\n",
       " 59188,\n",
       " 59178,\n",
       " 59168,\n",
       " 59165,\n",
       " 59158,\n",
       " 59155,\n",
       " 59148,\n",
       " 59145,\n",
       " 59138,\n",
       " 59135,\n",
       " 59128,\n",
       " 59125,\n",
       " 59118,\n",
       " 59115,\n",
       " 59105,\n",
       " 59098]"
      ]
     },
     "execution_count": 26,
     "metadata": {},
     "output_type": "execute_result"
    }
   ],
   "source": [
    "topBooks"
   ]
  },
  {
   "cell_type": "code",
   "execution_count": 27,
   "metadata": {},
   "outputs": [],
   "source": [
    "schema = StructType([StructField(\"ISBN\",IntegerType(),True)])\n",
    "Recommended_book = spark.createDataFrame(topBooks, IntegerType())\n",
    "Recommended_book = Recommended_book.join(transformed, Recommended_book.value == transformed.ISBNIndex).select(transformed[\"Book-Title\"], transformed[\"Book-Author\"])"
   ]
  },
  {
   "cell_type": "code",
   "execution_count": 28,
   "metadata": {},
   "outputs": [
    {
     "name": "stdout",
     "output_type": "stream",
     "text": [
      "+--------------------+--------------------+\n",
      "|          Book-Title|         Book-Author|\n",
      "+--------------------+--------------------+\n",
      "|La Guerre Des Bou...|             Pergaud|\n",
      "| Les racines du ciel|         Romain Gary|\n",
      "|Histoires Extraor...|     Edgar Allan Poe|\n",
      "|             Lespoir|       Andre Malraux|\n",
      "|LA Peste (Folio S...|        Albert Camus|\n",
      "|      Sauve qui peut|            SempÃ?Â©|\n",
      "|L'Education Europ...|         Romain Gary|\n",
      "|L'espion qui vena...|    John Le CarrÃ?Â©|\n",
      "|Ennemonde et autr...|          Jean Giono|\n",
      "|Le Bon Gros Geant...|          Roald Dahl|\n",
      "|L' Education Sent...|    Gustave Flaubert|\n",
      "|Lettres De Mon Mo...|              Daudet|\n",
      "|            La pomme|Pascale de Bourgoing|\n",
      "|Noces Suivi De L'...|        Albert Camus|\n",
      "|   Illusions Perdues|    Honore de Balzac|\n",
      "|Au-dessous du volcan|             Lowry M|\n",
      "|            L'Ã?Â®le|        Robert Merle|\n",
      "|La Chartreuse De ...|            Stendhal|\n",
      "|Un roi sans diver...|          Jean Giono|\n",
      "|Zazie Dans Le Met...|     Raymond Queneau|\n",
      "+--------------------+--------------------+\n",
      "\n"
     ]
    }
   ],
   "source": [
    "Recommended_book.show()"
   ]
  },
  {
   "attachments": {},
   "cell_type": "markdown",
   "metadata": {},
   "source": [
    "Reference\n",
    "\n",
    "https://thecleverprogrammer.com/2020/05/23/book-recommendation-system-with-machine-learning/\n",
    "\n",
    "https://medium.com/@patelneha1495/recommendation-system-in-python-using-als-algorithm-and-apache-spark-27aca08eaab3"
   ]
  },
  {
   "cell_type": "code",
   "execution_count": null,
   "metadata": {},
   "outputs": [],
   "source": []
  }
 ],
 "metadata": {
  "kernelspec": {
   "display_name": "Python 3 (ipykernel)",
   "language": "python",
   "name": "python3"
  },
  "language_info": {
   "codemirror_mode": {
    "name": "ipython",
    "version": 3
   },
   "file_extension": ".py",
   "mimetype": "text/x-python",
   "name": "python",
   "nbconvert_exporter": "python",
   "pygments_lexer": "ipython3",
   "version": "3.9.12"
  },
  "vscode": {
   "interpreter": {
    "hash": "0a9240f2f6ba86d196fc6332d06a8e1586f855294094f8f6823c9bd530339b83"
   }
  }
 },
 "nbformat": 4,
 "nbformat_minor": 4
}
